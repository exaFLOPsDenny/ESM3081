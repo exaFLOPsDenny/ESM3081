{
 "cells": [
  {
   "cell_type": "code",
   "execution_count": null,
   "metadata": {},
   "outputs": [],
   "source": [
    "import mglearn\n",
    "from sklearn.model_selection import train_test_split\n",
    "from sklearn.preprocessing import StandardScaler, MinMaxScaler\n",
    "from sklearn.svm import SVR\n",
    "from sklearn.metrics import mean_absolute_error, mean_squared_error, r2_score, accuracy_score\n",
    "from sklearn.decomposition import PCA\n",
    "from sklearn.datasets import load_breast_cancer, load_digits, load_iris\n",
    "from sklearn.neighbors import KNeighborsClassifier\n",
    "from sklearn.manifold import TSNE\n",
    "import matplotlib.pyplot as plt\n",
    "from sklearn.cluster import KMeans, AgglomerativeClustering, DBSCAN"
   ]
  },
  {
   "cell_type": "code",
   "execution_count": null,
   "metadata": {},
   "outputs": [],
   "source": [
    "# 1. Supervised_Learning_1_Basics\n",
    "# 1. Supervised_Learning_2_k_Nearest_Neighbors\n",
    "# 1. Supervised_Learning_3_Linear_Models\n",
    "# 1. Supervised_Learning_4_Decision_Trees_Ensembles"
   ]
  },
  {
   "cell_type": "code",
   "execution_count": null,
   "metadata": {},
   "outputs": [],
   "source": [
    "# 1. Supervised_Learning_5_Support_Vector_Machines\n",
    "\n",
    "########## SVR\n",
    "\n",
    "X, y = mglearn.datasets.load_extended_boston()]\n",
    "X_train, X_test, y_train, y_test = train_test_split(X, y, random_state=42)\n",
    "\n",
    "scalerX = StandardScaler()\n",
    "scalerX.fit(X_train)\n",
    "X_train_scaled = scalerX.transform(X_train)\n",
    "X_test_scaled = scalerX.transform(X_test) # Same scaling for the test datset (Exploring the test dataset is prohibited.)\n",
    "\n",
    "# Slack variable in SVR are effected by the target value. Ergo, the target needs to be also scaled.\n",
    "# (Prof. 강석호) 회귀 문제를 위한 예측모델 학습 시(예를 들어, Decision Tree와 k-NN은 target label의 scaling에 invariant하여 제외) target label의 scaling이 권장됩니다.\n",
    "\n",
    "scalerY = StandardScaler()\n",
    "scalerY.fit(y_train.reshape(-1,1))\n",
    "y_train_scaled = scalerY.transform(y_train.reshape(-1,1))\n",
    "y_test_scaled = scalerY.transform(y_test.reshape(-1,1))\n",
    "\n",
    "reg = SVR()\n",
    "reg.fit(X_train_scaled, y_train_scaled)\n",
    "\n",
    "# For Evaluation, target value should be inverse transformed.\n",
    "y_train_hat_scaled = reg.predict(X_train_scaled)\n",
    "y_train_hat = scalerY.inverse_transform(y_train_hat_scaled.reshape(-1,1))\n",
    "\n",
    "print(mean_absolute_error(y_train, y_train_hat))\n",
    "print(mean_squared_error(y_train, y_train_hat) ** 0.5) # Root for RMSE\n",
    "print(r2_score(y_train, y_train_hat))\n",
    "\n",
    "\n",
    "y_test_hat_scaled = reg.predict(X_test_scaled)\n",
    "y_test_hat = scalerY.inverse_transform(y_test_hat_scaled.reshape(-1,1))"
   ]
  },
  {
   "cell_type": "code",
   "execution_count": null,
   "metadata": {},
   "outputs": [],
   "source": [
    "# 1. Supervised_Learning_6_Neural_Networks\n",
    "\n",
    "# Like SVR MLPRegressor needs to scale y values"
   ]
  },
  {
   "cell_type": "code",
   "execution_count": null,
   "metadata": {},
   "outputs": [],
   "source": [
    "# 2. Unsupervised_Learning_1_Basics"
   ]
  },
  {
   "cell_type": "code",
   "execution_count": null,
   "metadata": {},
   "outputs": [],
   "source": [
    "# 2. Unsupervised_Learning_2_PCA\n",
    "\n",
    "########## PCA in supervised learning(w\\ KNN)\n",
    "\n",
    "cancer = load_breast_cancer()\n",
    "X_train, X_test, y_train, y_test = train_test_split(cancer.data, cancer.target, random_state= 42)\n",
    "\n",
    "scaler = StandardScaler()\n",
    "scaler.fit(X_train)\n",
    "X_train_scaled = scaler.transform(X_train)\n",
    "X_test_scaled = scaler.transform(X_test)\n",
    "\n",
    "pca = PCA(n_components=2) # without n_components no dimension reduction is occured\n",
    "pca.fit(X_train_scaled)\n",
    "\n",
    "X_train_pca = pca.transform(X_train_scaled)\n",
    "X_test_pca = pca.transform(X_test_scaled)\n",
    "\n",
    "clf = KNeighborsClassifier(n_neighbors= 3)\n",
    "clf.fit(X_train_pca, y_train)\n",
    "\n",
    "y_train_hat = clf.predict(X_train_pca)\n",
    "y_test_hat = clf.predict(X_test_pca)\n",
    "\n",
    "# PCA have inverse transformation so it can get new data and evaluate it\n",
    "X_test_rec = pca.inverse_transform(X_test_pca) # 여기서 X_test_scaled 아니야!"
   ]
  },
  {
   "cell_type": "code",
   "execution_count": null,
   "metadata": {},
   "outputs": [],
   "source": [
    "#2. Unsupervised_Learning_3_tSNE\n",
    "\n",
    "# Unlike PCA, t-SNE does not support transforming new(test) data\n",
    "\n",
    "digits = load_digits()\n",
    "\n",
    "tsne = TSNE(random_state=42)\n",
    "digits_tsne = tsne.fit_transform(digits.data) # use fit_transform instead of fit, as t-SNE has no transform method"
   ]
  },
  {
   "cell_type": "code",
   "execution_count": null,
   "metadata": {},
   "outputs": [],
   "source": [
    "# 2. Unsupervised_Learning_4_kMeans_HC (중요도 낮음)\n",
    "\n",
    "# K-means는 새로운 데이터 접근가능!\n",
    "\n",
    "iris = load_iris()\n",
    "X_train, y_train = iris.data, iris.target\n",
    "\n",
    "scaler = StandardScaler()\n",
    "X_train_scaled = scaler.fit_transform(X_train_scaled) # 새로운 데이터에 하려면 fit만\n",
    "\n",
    "kmeans = KMeans(n_clusters=3)\n",
    "kmeans.fit(X_train_scaled)\n",
    "\n",
    "print(scaler.inverse_transform(kmeans.cluster_centers_))\n",
    "\n",
    "assignments_X_train_scaled = kmeans.labels_\n",
    "\n",
    "assignments_X_new = kmeans.predict(X_new)\n",
    "\n",
    "\n",
    "# Hierarchical CLustering의 대표적인 Agglomerative Clustering은 새로운 데이터 접근 불가능! (no predict method)\n",
    "agg = AgglomerativeClustering(n_clusters=3, linkage= \"ward\")\n",
    "agg.fit(X_train)\n",
    "\n",
    "assignments_X_train = agg.labels_"
   ]
  },
  {
   "cell_type": "code",
   "execution_count": null,
   "metadata": {},
   "outputs": [],
   "source": [
    "# 2. Unsupervised_Learning_5_DBC\n",
    "scaler = MinMaxScaler((-1,1))\n",
    "X_train_scaled = scaler.fit_transform(X_train)\n",
    "\n",
    "dbscan = DBSCAN()\n",
    "dbscan.fit(X_train_scaled)\n",
    "\n",
    "assignments_X_train_scaled = dbscan.labels_"
   ]
  }
 ],
 "metadata": {
  "kernelspec": {
   "display_name": ".venv",
   "language": "python",
   "name": "python3"
  },
  "language_info": {
   "codemirror_mode": {
    "name": "ipython",
    "version": 3
   },
   "file_extension": ".py",
   "mimetype": "text/x-python",
   "name": "python",
   "nbconvert_exporter": "python",
   "pygments_lexer": "ipython3",
   "version": "3.11.2"
  }
 },
 "nbformat": 4,
 "nbformat_minor": 2
}
